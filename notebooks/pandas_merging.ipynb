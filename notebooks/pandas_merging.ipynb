{
 "cells": [
  {
   "cell_type": "markdown",
   "id": "0abe137f",
   "metadata": {},
   "source": [
    "In this notebooks, we'll learn first how to combine multiple DataFrame using the `merge` method."
   ]
  },
  {
   "cell_type": "markdown",
   "id": "c86c1357",
   "metadata": {},
   "source": [
    "## Merging _pandas_ DataFrames"
   ]
  },
  {
   "cell_type": "code",
   "execution_count": null,
   "id": "0e57ffed",
   "metadata": {},
   "outputs": [],
   "source": [
    "import pandas as pd"
   ]
  },
  {
   "cell_type": "code",
   "execution_count": null,
   "id": "8825ce50",
   "metadata": {},
   "outputs": [],
   "source": [
    "unemployment = pd.read_csv('data/tn_unemployment.csv')"
   ]
  },
  {
   "cell_type": "code",
   "execution_count": null,
   "id": "b0fe5c03",
   "metadata": {},
   "outputs": [],
   "source": [
    "unemployment.head()"
   ]
  },
  {
   "cell_type": "markdown",
   "id": "cc189f0a",
   "metadata": {},
   "source": [
    "This unemployment data was obtained from the Burea of Labor Statistics."
   ]
  },
  {
   "cell_type": "markdown",
   "id": "6341d75c",
   "metadata": {},
   "source": [
    "Now, let's bring in our second DataFrame."
   ]
  },
  {
   "cell_type": "code",
   "execution_count": null,
   "id": "c0d4bf10",
   "metadata": {},
   "outputs": [],
   "source": [
    "population = pd.read_csv('data/tn_population.csv')"
   ]
  },
  {
   "cell_type": "code",
   "execution_count": null,
   "id": "326c1bb2",
   "metadata": {},
   "outputs": [],
   "source": [
    "population.head()"
   ]
  },
  {
   "cell_type": "markdown",
   "id": "77c17e64",
   "metadata": {},
   "source": [
    "Our goal is to combine the unemployment and population data. In order to do this, _pandas_ needs a common column to join on. \n",
    "\n",
    "Notice that the `Name` column from `unemployment` and the `County Name` column from `population` almost work, except that `Name` also includes \", TN\". Let's remove this part so that we have a column to join on."
   ]
  },
  {
   "cell_type": "markdown",
   "id": "9a6be226",
   "metadata": {},
   "source": [
    "### Brief Detour - String Methods\n",
    "\n",
    "When working with text data in `pandas`, it is often useful to utilize the built-in sting methods. To use these methods, you must prepend a `.str` before the desired method.\n",
    "\n",
    "For example, we can make column entirely uppercase using the `upper()` method."
   ]
  },
  {
   "cell_type": "code",
   "execution_count": null,
   "id": "285e8203",
   "metadata": {},
   "outputs": [],
   "source": [
    "population['County Name'].str.upper()"
   ]
  },
  {
   "cell_type": "markdown",
   "id": "aee8ea48",
   "metadata": {},
   "source": [
    "Another often useful method is the `replace()` method. To use this method, specify what pattern you want to replace and then the replacement text."
   ]
  },
  {
   "cell_type": "code",
   "execution_count": null,
   "id": "e34c2168",
   "metadata": {},
   "outputs": [],
   "source": [
    "unemployment['Period'].str.replace('21', '2021')"
   ]
  },
  {
   "cell_type": "markdown",
   "id": "25670c3a",
   "metadata": {},
   "source": [
    "A method that we can use that will allow us to merge our dataframes is the `.str.split()` method.\n",
    "\n",
    "Notice that if we split on the comma, the first piece will match what is contained in the `County Name` column."
   ]
  },
  {
   "cell_type": "code",
   "execution_count": null,
   "id": "b3d700d6",
   "metadata": {},
   "outputs": [],
   "source": [
    "unemployment['Name'].str.split(',')"
   ]
  },
  {
   "cell_type": "markdown",
   "id": "af3bd918",
   "metadata": {},
   "source": [
    "By default, this method returns a list. We can make it return a DataFrame by using the `expand` argument."
   ]
  },
  {
   "cell_type": "code",
   "execution_count": null,
   "id": "bb56e30b",
   "metadata": {},
   "outputs": [],
   "source": [
    "unemployment['Name'].str.split(',', expand = True)"
   ]
  },
  {
   "cell_type": "markdown",
   "id": "c9498e3c",
   "metadata": {},
   "source": [
    "We only want the first column. Notice that we are using 0 as an integer and not as a string to access this column."
   ]
  },
  {
   "cell_type": "code",
   "execution_count": null,
   "id": "06eebe9c",
   "metadata": {},
   "outputs": [],
   "source": [
    "unemployment['Name'].str.split(',', expand = True)[0]"
   ]
  },
  {
   "cell_type": "markdown",
   "id": "996be192",
   "metadata": {},
   "source": [
    "Finally, we can assign this back to the `Name` column."
   ]
  },
  {
   "cell_type": "code",
   "execution_count": null,
   "id": "fde09c4a",
   "metadata": {},
   "outputs": [],
   "source": [
    "unemployment['Name'] = unemployment['Name'].str.split(',', expand = True)[0]"
   ]
  },
  {
   "cell_type": "code",
   "execution_count": null,
   "id": "39c76978",
   "metadata": {},
   "outputs": [],
   "source": [
    "unemployment.head()"
   ]
  },
  {
   "cell_type": "markdown",
   "id": "23739a89",
   "metadata": {},
   "source": [
    "Now, we are ready to merge."
   ]
  },
  {
   "cell_type": "markdown",
   "id": "e7a48f7c",
   "metadata": {},
   "source": [
    "**Option 1:** Use the `left_on` and `right_on` arguments to tell pandas what to merge on."
   ]
  },
  {
   "cell_type": "code",
   "execution_count": null,
   "id": "f3776746",
   "metadata": {},
   "outputs": [],
   "source": [
    "pd.merge(left = population, \n",
    "         right = unemployment, \n",
    "         left_on = 'County Name', \n",
    "         right_on = 'Name')"
   ]
  },
  {
   "cell_type": "markdown",
   "id": "1184d0a7",
   "metadata": {},
   "source": [
    "Notice that we end up with a duplicated column (with different names)."
   ]
  },
  {
   "cell_type": "markdown",
   "id": "9155d2ab",
   "metadata": {},
   "source": [
    "**Option 2:** Rename the merging column for one of our DataFrames."
   ]
  },
  {
   "cell_type": "code",
   "execution_count": null,
   "id": "3e355767",
   "metadata": {},
   "outputs": [],
   "source": [
    "pd.merge(left = population,\n",
    "         right = unemployment.rename(columns = {'Name': 'County Name'}))"
   ]
  },
  {
   "cell_type": "markdown",
   "id": "33f5ac17",
   "metadata": {},
   "source": [
    "We can even select out just the columns that we need after the merge:"
   ]
  },
  {
   "cell_type": "code",
   "execution_count": null,
   "id": "cdb85180",
   "metadata": {},
   "outputs": [],
   "source": [
    "pd.merge(left = population,\n",
    "         right = unemployment[['Name', 'unemployment_rate']].rename(columns = {'Name': 'County Name'}))"
   ]
  },
  {
   "cell_type": "markdown",
   "id": "ee7f56fb",
   "metadata": {},
   "source": [
    "Once we're happy with the results, we can save them to a DataFrame."
   ]
  },
  {
   "cell_type": "code",
   "execution_count": null,
   "id": "b9b3f825",
   "metadata": {},
   "outputs": [],
   "source": [
    "tn_counties = pd.merge(left = population,\n",
    "         right = unemployment[['Name', 'unemployment_rate']].rename(columns = {'Name': 'County Name'}))"
   ]
  },
  {
   "cell_type": "markdown",
   "id": "5f492dc2",
   "metadata": {},
   "source": [
    "Now, let's add in some additional information about these counties - which Grand Division they belong to."
   ]
  },
  {
   "cell_type": "code",
   "execution_count": null,
   "id": "e98f3557",
   "metadata": {},
   "outputs": [],
   "source": [
    "grand_divisions = pd.read_csv('data/tn_divisions.csv')"
   ]
  },
  {
   "cell_type": "code",
   "execution_count": null,
   "id": "718604fa",
   "metadata": {},
   "outputs": [],
   "source": [
    "grand_divisions.head()"
   ]
  },
  {
   "cell_type": "markdown",
   "id": "74517e72",
   "metadata": {},
   "source": [
    "**Your Turn:** Merge tn_counties with grand_divisions. Save the results back to `tn_counties`."
   ]
  },
  {
   "cell_type": "code",
   "execution_count": null,
   "id": "7536a8f1",
   "metadata": {},
   "outputs": [],
   "source": [
    "\n",
    "\n",
    "\n"
   ]
  },
  {
   "cell_type": "code",
   "execution_count": null,
   "id": "e9c404e6",
   "metadata": {},
   "outputs": [],
   "source": []
  }
 ],
 "metadata": {
  "kernelspec": {
   "display_name": "Python 3",
   "language": "python",
   "name": "python3"
  },
  "language_info": {
   "codemirror_mode": {
    "name": "ipython",
    "version": 3
   },
   "file_extension": ".py",
   "mimetype": "text/x-python",
   "name": "python",
   "nbconvert_exporter": "python",
   "pygments_lexer": "ipython3",
   "version": "3.8.8"
  }
 },
 "nbformat": 4,
 "nbformat_minor": 5
}
